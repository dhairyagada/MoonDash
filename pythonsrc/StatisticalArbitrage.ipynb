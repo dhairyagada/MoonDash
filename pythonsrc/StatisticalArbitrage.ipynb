{
 "cells": [
  {
   "cell_type": "code",
   "execution_count": 1,
   "metadata": {},
   "outputs": [],
   "source": [
    "%matplotlib notebook\n",
    "from StatisticalArbitrage import StatisticalArbitrage as sta\n",
    "from OrderStatus import OrderStatus\n",
    "import matplotlib.pyplot as plt\n",
    "import time, requests, json\n",
    "from decouple import config\n",
    "import pandas as pd\n",
    "import numpy as np\n",
    "import bitmex\n"
   ]
  },
  {
   "cell_type": "markdown",
   "metadata": {},
   "source": [
    "## Variable ---"
   ]
  },
  {
   "cell_type": "code",
   "execution_count": 2,
   "metadata": {},
   "outputs": [],
   "source": [
    "symbol1 = 'BTCUSDT'\n",
    "symbol2 = 'BCHUSDT'\n",
    "\n",
    "tick_interval = '15m'\n",
    "tick_interval_small = '5m'\n",
    "\n",
    "### CSV Paths for Data\n",
    "symbol1Path = './data/'+symbol1+'_'+tick_interval+'.csv'\n",
    "symbol2Path = './data/'+symbol2+'_'+tick_interval+'.csv'\n",
    "\n",
    "symbol1Path_small = './data/'+symbol1+'_'+tick_interval_small+'.csv'\n",
    "symbol2Path_small = './data/'+symbol2+'_'+tick_interval_small+'.csv'\n",
    "\n",
    "symbolcomposite = '.BBCHXBT'\n",
    "\n",
    "data_count = 20000\n",
    "bitmex_max_count = 1000\n",
    "\n",
    "current_balance = starting_capital = 10000\n",
    "algo_stop_balance = 0.1 * starting_capital\n",
    "\n",
    "rolling_window = 150\n",
    "sell_periods = 1\n",
    "\n",
    "z_score_buy_threshold = -1\n",
    "z_score_short_threshold = 1\n",
    "\n",
    "transaction_fee = 0\n",
    "\n",
    "leverage = 20"
   ]
  },
  {
   "cell_type": "code",
   "execution_count": 3,
   "metadata": {},
   "outputs": [
    {
     "name": "stdout",
     "output_type": "stream",
     "text": [
      "Saving Symbol 1\n",
      "Saving Symbol 2\n"
     ]
    }
   ],
   "source": [
    "sta.saveSymbolsToCSV(symbol1,symbol2,tick_interval)\n",
    "# sta.saveSymbolsToCSV(symbol1,symbol2,tick_interval_small)\n",
    "\n",
    "past_dataframe_symbol1,past_dataframe_symbol2 = sta.loadSymbolsFromCSV(symbol1Path,symbol2Path)\n",
    "ticker_main_df = sta.getMainDataFrame(symbol1,symbol2,past_dataframe_symbol1,past_dataframe_symbol2)"
   ]
  },
  {
   "cell_type": "code",
   "execution_count": null,
   "metadata": {},
   "outputs": [
    {
     "name": "stdout",
     "output_type": "stream",
     "text": [
      "Running For Rolling Window - 10\n"
     ]
    }
   ],
   "source": [
    "returns_list = []\n",
    "rolling_window_list = []\n",
    "\n",
    "for r in range (10,200,10):\n",
    "    print('Running For Rolling Window - '+str(r) )\n",
    "    ticker_main_df = sta.zScoreDF(ticker_main_df,r,symbol1,symbol2)\n",
    "    current_balance,balance_list,order_details = sta.runAnalysis(starting_capital,\n",
    "                        algo_stop_balance,\n",
    "                        sell_periods,\n",
    "                        leverage,\n",
    "                        transaction_fee,\n",
    "                        z_score_buy_threshold,\n",
    "                        z_score_short_threshold,\n",
    "                        symbol1,symbol2,ticker_main_df)         \n",
    "    cap_returns = round((current_balance -starting_capital) *100/current_balance)\n",
    "    \n",
    "    rolling_window_list.append(r)\n",
    "    returns_list.append(cap_returns)\n",
    "    print('Capital Returns '+str(cap_returns) + '%')\n",
    "\n",
    "fig = plt.figure()\n",
    "plt.plot(rolling_window_list,returns_list)\n",
    "plt.show()"
   ]
  },
  {
   "cell_type": "code",
   "execution_count": null,
   "metadata": {},
   "outputs": [],
   "source": [
    "# fig = plt.figure()\n",
    "# plt.plot(balance_list)\n",
    "# plt.show()"
   ]
  },
  {
   "cell_type": "code",
   "execution_count": null,
   "metadata": {},
   "outputs": [],
   "source": [
    "fig = plt.figure()\n",
    "plt.scatter(rolling_window_list,returns_list)\n",
    "plt.show()\n",
    "r"
   ]
  },
  {
   "cell_type": "code",
   "execution_count": null,
   "metadata": {},
   "outputs": [],
   "source": []
  }
 ],
 "metadata": {
  "kernelspec": {
   "display_name": "Python 3",
   "language": "python",
   "name": "python3"
  },
  "language_info": {
   "codemirror_mode": {
    "name": "ipython",
    "version": 3
   },
   "file_extension": ".py",
   "mimetype": "text/x-python",
   "name": "python",
   "nbconvert_exporter": "python",
   "pygments_lexer": "ipython3",
   "version": "3.7.3"
  }
 },
 "nbformat": 4,
 "nbformat_minor": 4
}
